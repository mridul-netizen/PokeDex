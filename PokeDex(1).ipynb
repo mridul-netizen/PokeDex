{
  "nbformat": 4,
  "nbformat_minor": 0,
  "metadata": {
    "colab": {
      "name": "PokeDex(1).ipynb",
      "provenance": [],
      "collapsed_sections": []
    },
    "kernelspec": {
      "name": "python3",
      "display_name": "Python 3"
    },
    "accelerator": "GPU"
  },
  "cells": [
    {
      "cell_type": "markdown",
      "metadata": {
        "id": "wZa8fHm5l4_0",
        "colab_type": "text"
      },
      "source": [
        "# **Starting the project by uploading the dataset on kaggle profile via init commands**"
      ]
    },
    {
      "cell_type": "markdown",
      "metadata": {
        "id": "S6WGgep6NWjg",
        "colab_type": "text"
      },
      "source": [
        "Install the Kaggle command-line interface (here via PIP, a Python package manager):\n",
        "\n"
      ]
    },
    {
      "cell_type": "code",
      "metadata": {
        "id": "ds_FmrYoMgq3",
        "colab_type": "code",
        "colab": {}
      },
      "source": [
        "!sudo apt install python3-pip\n",
        "!pip3 install --user kaggle"
      ],
      "execution_count": null,
      "outputs": []
    },
    {
      "cell_type": "markdown",
      "metadata": {
        "id": "dNZklgTuNblM",
        "colab_type": "text"
      },
      "source": [
        "Create a configuration directory for the next step:"
      ]
    },
    {
      "cell_type": "code",
      "metadata": {
        "id": "AB6Uini2NPvS",
        "colab_type": "code",
        "colab": {}
      },
      "source": [
        "mkdir ~/.kaggle"
      ],
      "execution_count": null,
      "outputs": []
    },
    {
      "cell_type": "markdown",
      "metadata": {
        "id": "UhuW0Hh1mz_o",
        "colab_type": "text"
      },
      "source": [
        "upload your **kaggle.json file** and the **zip** file for dataset here\n",
        "\n",
        "\n",
        "---\n",
        "note that your **zip** file should be placed in a folder named **dataset**\n"
      ]
    },
    {
      "cell_type": "code",
      "metadata": {
        "id": "jRVBs3sZgBlf",
        "colab_type": "code",
        "colab": {}
      },
      "source": [
        "from google.colab import files\n",
        "my_file=files.upload()"
      ],
      "execution_count": null,
      "outputs": []
    },
    {
      "cell_type": "markdown",
      "metadata": {
        "id": "q9z3rAPJN0pM",
        "colab_type": "text"
      },
      "source": [
        "Setting up the environment variables"
      ]
    },
    {
      "cell_type": "code",
      "metadata": {
        "id": "N87iceHVhBHe",
        "colab_type": "code",
        "colab": {}
      },
      "source": [
        "%reload_ext autoreload\n",
        "%autoreload 2\n",
        "import warnings\n",
        "import os\n",
        "import pandas as pd\n",
        "warnings.filterwarnings(\"ignore\")\n",
        "cred = pd.read_json(\"kaggle.json\",lines=True)\n",
        "os.environ['KAGGLE_USERNAME'] = cred.iloc[0][0]\n",
        "os.environ['KAGGLE_KEY'] = cred.iloc[0][1]"
      ],
      "execution_count": null,
      "outputs": []
    },
    {
      "cell_type": "markdown",
      "metadata": {
        "id": "OowM_uJgn1H2",
        "colab_type": "text"
      },
      "source": [
        "Once you have the Kaggle API installed and your credentials saved, you need to initialize your dataset folder. This will create a .json file in the correct format for you to put your metadata in."
      ]
    },
    {
      "cell_type": "code",
      "metadata": {
        "id": "E-qPONGkNd9F",
        "colab_type": "code",
        "colab": {}
      },
      "source": [
        "!kaggle datasets init -p /content/dataset/"
      ],
      "execution_count": null,
      "outputs": []
    },
    {
      "cell_type": "markdown",
      "metadata": {
        "id": "fOD0CA4ahdIg",
        "colab_type": "text"
      },
      "source": [
        "The above command would create a **datapackage.json** file in your dataset folder.Let's update it! Since this data was collected and released by the United States Federal government, it's in the public domain. This means that CC0 is the appropriate license for this dataset, so we don't need to change that. (You can see a full list of supported licenses here.) However, we will want to update the slug and dataset title to something more informative, to something like this:\n",
        "{  \n",
        "   \"licenses\":[  \n",
        "      {  \n",
        "         \"name\":\"CC0-1.0\"\n",
        "      }\n",
        "   ],\n",
        "   \"id\":\"<user_name>/PokeDex\",\n",
        "   \"title\":\"pokedex\"\n",
        "}\n"
      ]
    },
    {
      "cell_type": "code",
      "metadata": {
        "id": "dMg0_fO7heiD",
        "colab_type": "code",
        "colab": {}
      },
      "source": [
        "!kaggle datasets create -p /content/dataset\n"
      ],
      "execution_count": null,
      "outputs": []
    },
    {
      "cell_type": "markdown",
      "metadata": {
        "id": "LHwWumoTo4Um",
        "colab_type": "text"
      },
      "source": [
        "So finally our dataset has been created!!  :)\n",
        "\n",
        "Now move onto PokeDex(2) for further execution......\n"
      ]
    }
  ]
}